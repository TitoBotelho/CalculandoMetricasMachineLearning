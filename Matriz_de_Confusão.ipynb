{
  "nbformat": 4,
  "nbformat_minor": 0,
  "metadata": {
    "colab": {
      "provenance": [],
      "collapsed_sections": [],
      "authorship_tag": "ABX9TyPuESBlcfe3NrFmKs5EqfJv",
      "include_colab_link": true
    },
    "kernelspec": {
      "name": "python3",
      "display_name": "Python 3"
    },
    "language_info": {
      "name": "python"
    }
  },
  "cells": [
    {
      "cell_type": "markdown",
      "metadata": {
        "id": "view-in-github",
        "colab_type": "text"
      },
      "source": [
        "<a href=\"https://colab.research.google.com/github/TitoBotelho/CalculandoMetricasMachineLearning/blob/main/Matriz_de_Confus%C3%A3o.ipynb\" target=\"_parent\"><img src=\"https://colab.research.google.com/assets/colab-badge.svg\" alt=\"Open In Colab\"/></a>"
      ]
    },
    {
      "cell_type": "markdown",
      "source": [
        "# Matriz de confusão\n",
        "\n",
        "Calculando métricas de avaliação de desempenho para modelos de Machine Learning\n"
      ],
      "metadata": {
        "id": "Tf0sj5Ow0Eod"
      }
    },
    {
      "cell_type": "markdown",
      "source": [
        "Referências:\n",
        "\n",
        "https://colab.research.google.com/github/FlaysonSantos/Matriz_de_Confusao/blob/main/Matriz_de_Confus%C3%A3o.ipynb"
      ],
      "metadata": {
        "id": "3TbAIQgDz25j"
      }
    },
    {
      "cell_type": "markdown",
      "source": [
        "Primeiro, vamos supor um array de valores reais e um de valores preditos:"
      ],
      "metadata": {
        "id": "E8E8685yd2W-"
      }
    },
    {
      "cell_type": "code",
      "source": [
        "valoresReais = [0, 1, 1, 0, 0, 1, 0, 0, 1, 1, 0, 0, 1, 0, 1, 1, 1, 0, 1, 0, 1, 0, 1, 0, 0, 1, 0, 1, 1, 0]\n",
        "valoresPreditos = [1, 1, 0, 0, 0, 1, 1, 0, 1, 1, 0, 0, 0, 0, 0, 1, 1, 0, 1, 0, 0, 0, 1, 1, 0, 1, 0, 1, 1, 0]"
      ],
      "metadata": {
        "id": "vz70CiUJ0Z5Z"
      },
      "execution_count": null,
      "outputs": []
    },
    {
      "cell_type": "code",
      "source": [
        "#Declarando variáveis vazias para guardar os valores do looping\n",
        "\n",
        "verdadeiroPositivo = 0 #o valor real é verdadeiro e o modelo previu verdadeiro (1,1)\n",
        "verdadeiroNegativo = 0 #o valor real é negativo e o sistema previu negativo (0,0)\n",
        "falsoPositivo = 0 # o valor real é negativo e o sistema previu positivo (0,1)\n",
        "falsoNegativo = 0 #o valor real é positivo e o sistema previu negativo (1,0)\n",
        "\n",
        "\n",
        "#um loop simples compara cada íncice do array de valores reais com o de valores previstos\n",
        "for i in range(len(valoresReais)):\n",
        "\n",
        "\n",
        "    #se o valor real for 1 e o valor previsto for 1, adiciona um na variável de verdadeiro positivo\n",
        "    if (valoresReais[i] == 1 and valoresPreditos[i]== 1):\n",
        "      verdadeiroPositivo = verdadeiroPositivo +1\n",
        "\n",
        "    #se o valor real for 0 e o valor previsto for 0, adiciona um na variável de verdadeiro negativo\n",
        "    if (valoresReais[i] == 0 and valoresPreditos[i]== 0):\n",
        "      verdadeiroNegativo = verdadeiroNegativo +1      \n",
        "\n",
        "    #se o valor real for 0 e o valor previsto for 1, adiciona um na variável de falso positivo\n",
        "    if (valoresReais[i] == 0 and valoresPreditos[i]== 1):\n",
        "      falsoPositivo = falsoPositivo +1   \n",
        "\n",
        "    #se o valor real for 1 e o valor previsto for 0, adiciona um na variável de falso negativo\n",
        "    if (valoresReais[i] == 1 and valoresPreditos[i]== 0):\n",
        "      falsoNegativo = falsoNegativo +1 \n",
        "\n",
        "\n",
        "#imprimir os valores:\n",
        "print(verdadeiroPositivo)\n",
        "print(verdadeiroNegativo)\n",
        "print(falsoPositivo)\n",
        "print(falsoNegativo)"
      ],
      "metadata": {
        "colab": {
          "base_uri": "https://localhost:8080/"
        },
        "id": "YtMfXDP7bBY6",
        "outputId": "c6cc9fb7-7afb-4204-9b9b-b9448137fc45"
      },
      "execution_count": null,
      "outputs": [
        {
          "output_type": "stream",
          "name": "stdout",
          "text": [
            "11\n",
            "12\n",
            "3\n",
            "4\n"
          ]
        }
      ]
    },
    {
      "cell_type": "code",
      "source": [
        "#Matriz de confusão é feita a partir dos valores calculados\n",
        "matrizConfusão = [[verdadeiroPositivo, falsoNegativo], [falsoPositivo, verdadeiroNegativo]]\n",
        "matrizConfusão\n",
        "\n"
      ],
      "metadata": {
        "colab": {
          "base_uri": "https://localhost:8080/"
        },
        "id": "Yk_HI8NH_L_n",
        "outputId": "ca863cde-775c-4b51-ae1f-36ef60826524"
      },
      "execution_count": null,
      "outputs": [
        {
          "output_type": "execute_result",
          "data": {
            "text/plain": [
              "[[11, 4], [3, 12]]"
            ]
          },
          "metadata": {},
          "execution_count": 4
        }
      ]
    },
    {
      "cell_type": "code",
      "source": [
        "#Podemos também fazer a matriz de confusão a partir da biblioteca pronta\n",
        "from sklearn import metrics\n",
        "\n",
        "conf = metrics.confusion_matrix(valoresReais, valoresPreditos, labels=[1,0])\n",
        "conf\n"
      ],
      "metadata": {
        "colab": {
          "base_uri": "https://localhost:8080/"
        },
        "id": "R0Q1GukvDjd4",
        "outputId": "76106aa0-8abc-4d05-c785-321eb5d03e68"
      },
      "execution_count": null,
      "outputs": [
        {
          "output_type": "execute_result",
          "data": {
            "text/plain": [
              "array([[11,  4],\n",
              "       [ 3, 12]])"
            ]
          },
          "metadata": {},
          "execution_count": 5
        }
      ]
    },
    {
      "cell_type": "code",
      "source": [
        "#imprimindo a matriz de confusão a partir das bibliotecas:\n",
        "\n",
        "import numpy as np\n",
        "import matplotlib.pyplot as plt\n",
        "import itertools\n",
        "\n",
        "\n",
        "classes = [0, 1]\n",
        "# plot confusion matrix\n",
        "plt.imshow(conf, interpolation='nearest', cmap=plt.cm.Reds)\n",
        "plt.title(\"Confusion Matrix\")\n",
        "plt.colorbar()\n",
        "tick_marks = np.arange(len(classes))\n",
        "plt.xticks(tick_marks, classes)\n",
        "plt.yticks(tick_marks, classes)\n",
        "\n",
        "fmt = 'd'\n",
        "thresh = conf.max() / 2.\n",
        "for i, j in itertools.product(range(conf.shape[0]), range(conf.shape[1])):\n",
        "    plt.text(j, i, format(conf[i, j], fmt),\n",
        "             horizontalalignment=\"center\",\n",
        "             color=\"white\" if conf[i, j] > thresh else \"black\")\n",
        "\n",
        "plt.tight_layout()\n",
        "plt.ylabel('Valores Reais')\n",
        "plt.xlabel('Valores Preditos')"
      ],
      "metadata": {
        "colab": {
          "base_uri": "https://localhost:8080/",
          "height": 329
        },
        "id": "Natyh_FFEFDy",
        "outputId": "278186b1-3cd8-4b0a-d2e4-0dd11822e784"
      },
      "execution_count": null,
      "outputs": [
        {
          "output_type": "execute_result",
          "data": {
            "text/plain": [
              "Text(0.5, 15.0, 'Valores Preditos')"
            ]
          },
          "metadata": {},
          "execution_count": 6
        },
        {
          "output_type": "display_data",
          "data": {
            "text/plain": [
              "<Figure size 432x288 with 2 Axes>"
            ],
            "image/png": "[encoded data removed]"
          },
          "metadata": {
            "needs_background": "light"
          }
        }
      ]
    },
    {
      "cell_type": "markdown",
      "source": [
        "# Calculando Métricas:"
      ],
      "metadata": {
        "id": "vkQOKfxyUO8X"
      }
    },
    {
      "cell_type": "markdown",
      "source": [
        "# Acurácia:\n",
        "\n",
        "A acurácia é definida pelo (total de acertos) / (total de itens)\n"
      ],
      "metadata": {
        "id": "ct-qHXaKUvwO"
      }
    },
    {
      "cell_type": "code",
      "source": [
        "acuracia = (verdadeiroPositivo + verdadeiroNegativo) / (verdadeiroPositivo + verdadeiroNegativo + falsoPositivo + falsoNegativo)\n",
        "acuracia"
      ],
      "metadata": {
        "colab": {
          "base_uri": "https://localhost:8080/"
        },
        "id": "YolOXyepUk0w",
        "outputId": "2bbee6b8-b87c-40fd-8078-654b2fa3dbc2"
      },
      "execution_count": null,
      "outputs": [
        {
          "output_type": "execute_result",
          "data": {
            "text/plain": [
              "0.7666666666666667"
            ]
          },
          "metadata": {},
          "execution_count": 7
        }
      ]
    },
    {
      "cell_type": "markdown",
      "source": [
        "# Sensibilidade:\n",
        "A sensibilidade é definida pelo (verdadeiro positivo) / (verdadeiro positivo + falso negativo)\n"
      ],
      "metadata": {
        "id": "8qrqDaMgYLrC"
      }
    },
    {
      "cell_type": "code",
      "source": [
        "sensibilidade = (verdadeiroPositivo) / (verdadeiroPositivo + falsoNegativo)\n",
        "sensibilidade"
      ],
      "metadata": {
        "colab": {
          "base_uri": "https://localhost:8080/"
        },
        "id": "d4PNhsHCYtuf",
        "outputId": "d5c1983e-8b35-453a-a913-1621474a140f"
      },
      "execution_count": null,
      "outputs": [
        {
          "output_type": "execute_result",
          "data": {
            "text/plain": [
              "0.7333333333333333"
            ]
          },
          "metadata": {},
          "execution_count": 8
        }
      ]
    },
    {
      "cell_type": "markdown",
      "source": [
        "# Especificidade:\n",
        "\n",
        "A capacidade do método de detectar resultados negativos.\n"
      ],
      "metadata": {
        "id": "GW6wu6bqZP0T"
      }
    },
    {
      "cell_type": "code",
      "source": [
        "especificidade = (verdadeiroNegativo) / (verdadeiroNegativo + falsoPositivo)\n",
        "especificidade"
      ],
      "metadata": {
        "colab": {
          "base_uri": "https://localhost:8080/"
        },
        "id": "3yG6yOs3ZhMi",
        "outputId": "8901e0f0-5820-4ee1-9677-18a8bbb59ee5"
      },
      "execution_count": null,
      "outputs": [
        {
          "output_type": "execute_result",
          "data": {
            "text/plain": [
              "0.8"
            ]
          },
          "metadata": {},
          "execution_count": 9
        }
      ]
    },
    {
      "cell_type": "markdown",
      "source": [
        "# Precisão:\n",
        "É a quantidade de verdadeiros positivos sobre a soma de todos os valores positivos:\n"
      ],
      "metadata": {
        "id": "9joCBH3KaPrK"
      }
    },
    {
      "cell_type": "code",
      "source": [
        "precisao = (verdadeiroPositivo) / (verdadeiroPositivo + falsoPositivo)\n",
        "precisao"
      ],
      "metadata": {
        "colab": {
          "base_uri": "https://localhost:8080/"
        },
        "id": "l-Uwcha1ahW8",
        "outputId": "ca68cb37-43ec-43de-b1ea-54debcaeecdd"
      },
      "execution_count": null,
      "outputs": [
        {
          "output_type": "execute_result",
          "data": {
            "text/plain": [
              "0.7857142857142857"
            ]
          },
          "metadata": {},
          "execution_count": 10
        }
      ]
    },
    {
      "cell_type": "markdown",
      "source": [
        "# F-Score:\n",
        "É uma média harônica calculada com base na precisão e na revocação"
      ],
      "metadata": {
        "id": "CDXWit3VbJ2-"
      }
    },
    {
      "cell_type": "code",
      "source": [
        "f1 = 2* (precisao * sensibilidade) / (precisao + sensibilidade)\n",
        "f1"
      ],
      "metadata": {
        "colab": {
          "base_uri": "https://localhost:8080/"
        },
        "id": "3A8Qew_dbiyD",
        "outputId": "f95c254f-a35e-45f1-cd84-bd364b92f6b0"
      },
      "execution_count": null,
      "outputs": [
        {
          "output_type": "execute_result",
          "data": {
            "text/plain": [
              "0.7586206896551724"
            ]
          },
          "metadata": {},
          "execution_count": 11
        }
      ]
    }
  ]
}